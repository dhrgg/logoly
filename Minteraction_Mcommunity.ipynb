{
  "nbformat": 4,
  "nbformat_minor": 0,
  "metadata": {
    "colab": {
      "name": "Minteraction_Mcommunity.ipynb",
      "provenance": [],
      "authorship_tag": "ABX9TyObBsBiODIsBjGCIc578zch",
      "include_colab_link": true
    },
    "kernelspec": {
      "name": "python3",
      "display_name": "Python 3"
    }
  },
  "cells": [
    {
      "cell_type": "markdown",
      "metadata": {
        "id": "view-in-github",
        "colab_type": "text"
      },
      "source": [
        "<a href=\"https://colab.research.google.com/github/dhrgg/logoly/blob/master/Minteraction_Mcommunity.ipynb\" target=\"_parent\"><img src=\"https://colab.research.google.com/assets/colab-badge.svg\" alt=\"Open In Colab\"/></a>"
      ]
    },
    {
      "cell_type": "code",
      "metadata": {
        "id": "LjEUh9Xzb7Ky",
        "colab_type": "code",
        "colab": {}
      },
      "source": [
        "import numpy as np\n",
        "import random as random\n",
        "from sklearn.cluster import SpectralClustering\n",
        "from sklearn.metrics import accuracy_score\n",
        "import matplotlib.pyplot as plt\n",
        "import time"
      ],
      "execution_count": 1,
      "outputs": []
    },
    {
      "cell_type": "markdown",
      "metadata": {
        "id": "sCq3jq-BcTPc",
        "colab_type": "text"
      },
      "source": [
        "# 1. Initialize nodel labels **labelsMarkov(1)**, adjacency matrix **A(1)** and log-likelihood ratio matrix **M(1)** when **t = 1**\n",
        "\n",
        "functions to initialize labelsMarkov(1) and A(1)\n",
        "\n",
        "function to compute M(1)\n",
        "\n",
        "\n",
        "\n",
        "\n",
        "\n",
        "\n"
      ]
    },
    {
      "cell_type": "code",
      "metadata": {
        "id": "eor61dAScGlc",
        "colab_type": "code",
        "colab": {}
      },
      "source": [
        ""
      ],
      "execution_count": null,
      "outputs": []
    },
    {
      "cell_type": "markdown",
      "metadata": {
        "id": "xxSU_S4B1y1H",
        "colab_type": "text"
      },
      "source": [
        "# 2.Generate **A(t)** and **labelsMarkov(t)** when **t = T**\n",
        "\n",
        "for i in range(T):\n",
        "\n",
        "> generate **labelsMarkov(i)** (function)\n",
        "\n",
        "> generate **A(i)** (function)\n",
        "\n",
        "\n",
        "\n",
        "\n",
        "\n"
      ]
    },
    {
      "cell_type": "markdown",
      "metadata": {
        "id": "WAgUdjJS4r6g",
        "colab_type": "text"
      },
      "source": [
        "# 3. functions for  **delta(t)** and **M(t)**"
      ]
    },
    {
      "cell_type": "markdown",
      "metadata": {
        "id": "JIqZibdyWK28",
        "colab_type": "text"
      },
      "source": [
        "# 4. Likelihood function and node labeling **labelsPred(t)** "
      ]
    },
    {
      "cell_type": "markdown",
      "metadata": {
        "id": "L_Vqv_VRXsCI",
        "colab_type": "text"
      },
      "source": [
        "# 5. Node clustering for Markovian interaction and community"
      ]
    },
    {
      "cell_type": "markdown",
      "metadata": {
        "id": "8nUgjgelwdmZ",
        "colab_type": "text"
      },
      "source": [
        "# 6. Plots for accuracy-snapshot and flataccuracy-epsilon"
      ]
    },
    {
      "cell_type": "markdown",
      "metadata": {
        "id": "c07Mtyu3m0pV",
        "colab_type": "text"
      },
      "source": [
        "# 7. Input\n",
        "\n"
      ]
    },
    {
      "cell_type": "code",
      "metadata": {
        "id": "qzCt7PSgcP9X",
        "colab_type": "code",
        "colab": {}
      },
      "source": [
        "n = 500         # number of nodes\n",
        "T = 30          # number of timeshots\n",
        "\n",
        "cin = 2.5\n",
        "cout = 1.5 \n",
        "pin = cin  *  np.log(n)/n              # pin(1) \n",
        "pout = cout  *  np.log(n)/n            # pout(1)\n",
        "qin = 0.7                              # Pin(1,1) - intra probability from on to on\n",
        "qout  = 0.4                            # Pout(1,1)  - outra probability from on to on\n",
        "\n",
        "epsilon = 0.0         # community membership changing rate for each node \n",
        "tts = 10              # test times for each timeshots   \n"
      ],
      "execution_count": null,
      "outputs": []
    },
    {
      "cell_type": "markdown",
      "metadata": {
        "id": "Kczw0yL-p7ea",
        "colab_type": "text"
      },
      "source": [
        "# 8. Output"
      ]
    },
    {
      "cell_type": "code",
      "metadata": {
        "id": "puvJR-oap7BO",
        "colab_type": "code",
        "colab": {}
      },
      "source": [
        "print(\"pin: \" + pin)\n",
        "print(\"pout: \" + pout)\n",
        "print(\"Pin: \" + Pin)\n",
        "print(\"Pout: \" + Pout)"
      ],
      "execution_count": null,
      "outputs": []
    }
  ]
}